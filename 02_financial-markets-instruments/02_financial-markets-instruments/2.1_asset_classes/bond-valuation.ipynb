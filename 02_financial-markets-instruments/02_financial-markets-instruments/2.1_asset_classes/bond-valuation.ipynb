{
 "cells": [
  {
   "cell_type": "markdown",
   "metadata": {},
   "source": [
    "# Bonds"
   ]
  },
  {
   "cell_type": "markdown",
   "metadata": {},
   "source": [
    "Bond:: Instrument to raise debt. Borrowing instrument created by company for investors"
   ]
  },
  {
   "cell_type": "markdown",
   "metadata": {},
   "source": [
    "## 2. Features of a Bond\n",
    "\n",
    "* Bond is like a loan and it starts on the issue date (when the investor gives loan to the company\n",
    "* Example: $1,000 Bond with 2 year maturity with 10% semi-annual coupon\n",
    "    - Par Value/Face Value represents the amount of the bond\n",
    "    - Maturity Date:: Date when laon is returned by borrower to lender\n",
    "    - Term:: How long the bond is and interest\n",
    "    - Coupon/Interest:: 10% year paid semi-annually at 5% every 6 months\n",
    "\n",
    "* Borrowing compamy can issue bond at any price and coupon and lenders decide how much they want to pay for it"
   ]
  },
  {
   "cell_type": "markdown",
   "metadata": {},
   "source": [
    "## 3. Bond Valuation\n",
    "* Example: 2 year bond with 10% semi-annual coupon with the amount of $1000\n",
    "    - This means that the coupon payout is $50 dollars \n",
    "    - So how much should the investor pay for the bond?\n",
    "        - The coupon is set by the borrower but investors decide the price\n",
    "    - Assuming always $1000 at the end; bond can trade at any price of its life but the par value is repaid to borrower regardless if bought by discount or premium\n",
    "\n",
    "* Value:: PV of future cash flows using the cost of money\n",
    "* Value(bond) = PV of coupon payments + PV of face/par value\n",
    "\n",
    "* Anythime we are working on __, we need a discount rare, but what is it?\n",
    "\n",
    "* Discount rare:: cost of money (current market rate) \n",
    "    - for similar company, credit quality is the issuer and use that to find PV\n",
    "* Rate is given by the market\n",
    "* Coupon is given by issue and par value\n",
    "\n",
    "* Example: Market rate at 8%\n",
    "    - Market rate is at 8% but this bond is at 10%\n",
    "        - This bond is greater than the market value so we are willing to put more than $1000\n",
    "    - Discount Rate\n",
    "        - NPER = 2 * 2 = 4 payemnts\n",
    "        - RATE = 8% / 2 = 4\n",
    "        - PV = ?\n",
    "        - PMT = $50\n",
    "        - FV = $1000\n",
    "    - PV(RATE, NPER, PMT, FV, TYPE)\n",
    "        - PV(.04,4,50,1000,0) = -1036.30\n",
    "    - So that bond is valued at $1036.30 which means that it is a premium bond\n",
    "\n",
    "* Example: 10 year bond, $1000 face value, Coupon $60. If nominal Annual required rate of return is 10% how much should you pay for this bond?\n",
    "    - RATE = 10% / 2 = 5% (bond already looks like 12% coupon so it will sell at a premium)\n",
    "    - NPER = 10 * 2 = 20\n",
    "    - PV = ?\n",
    "    - PMT = 60\n",
    "    - FV = 1000\n",
    "    - PV(.05,20,60,1000,0) = -1124.62       \n",
    "        "
   ]
  },
  {
   "cell_type": "code",
   "execution_count": null,
   "metadata": {},
   "outputs": [],
   "source": [
    "pip install numpy_financial"
   ]
  },
  {
   "cell_type": "code",
   "execution_count": 9,
   "metadata": {},
   "outputs": [
    {
     "data": {
      "text/plain": [
       "(np.float64(-1036.3), np.float64(-1124.62))"
      ]
     },
     "execution_count": 9,
     "metadata": {},
     "output_type": "execute_result"
    }
   ],
   "source": [
    "def bond_valuation(rate_annual, years, coupon_payment, face_value, payments_per_year=2):\n",
    "    \"\"\"\n",
    "    Calculate the present value of a bond.\n",
    "\n",
    "    Parameters:\n",
    "    - rate_annual: Annual market interest rate (e.g., 0.08 for 8%)\n",
    "    - years: Total number of years until maturity\n",
    "    - coupon_payment: Amount paid each period\n",
    "    - face_value: Bond's face value (usually $1000)\n",
    "    - payments_per_year: Number of payments per year (default is 2 for semiannual)\n",
    "\n",
    "    Returns:\n",
    "    - Present Value of the bond (float)\n",
    "    \"\"\"\n",
    "    rate = rate_annual / payments_per_year\n",
    "    nper = years * payments_per_year\n",
    "    pv = npf.pv(rate, nper, coupon_payment, face_value, when=0)\n",
    "    return round(pv, 2)\n",
    "\n",
    "# Example usage with previous examples:\n",
    "example_1 = bond_valuation(rate_annual=0.08, years=2, coupon_payment=50, face_value=1000)\n",
    "example_2 = bond_valuation(rate_annual=0.10, years=10, coupon_payment=60, face_value=1000)\n",
    "\n",
    "example_1, example_2"
   ]
  },
  {
   "cell_type": "markdown",
   "metadata": {},
   "source": [
    "### Yield to Maturity (YTM)\n",
    "* Used to calculate the return of a bond purchased today and held until maturity\n",
    "* Price and rate have and inverse relationship"
   ]
  },
  {
   "cell_type": "markdown",
   "metadata": {},
   "source": [
    "* Example:"
   ]
  }
 ],
 "metadata": {
  "kernelspec": {
   "display_name": "Python 3",
   "language": "python",
   "name": "python3"
  },
  "language_info": {
   "codemirror_mode": {
    "name": "ipython",
    "version": 3
   },
   "file_extension": ".py",
   "mimetype": "text/x-python",
   "name": "python",
   "nbconvert_exporter": "python",
   "pygments_lexer": "ipython3",
   "version": "3.12.1"
  }
 },
 "nbformat": 4,
 "nbformat_minor": 2
}
