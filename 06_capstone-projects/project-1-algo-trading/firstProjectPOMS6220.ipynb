{
 "cells": [
  {
   "cell_type": "code",
   "execution_count": 1,
   "metadata": {},
   "outputs": [
    {
     "name": "stdout",
     "output_type": "stream",
     "text": [
      "3.12.7 | packaged by Anaconda, Inc. | (main, Oct  4 2024, 13:17:27) [MSC v.1929 64 bit (AMD64)]\n",
      "c:\\Users\\Karl\\anaconda3\\python.exe\n"
     ]
    }
   ],
   "source": [
    "import sys\n",
    "print(sys.version)\n",
    "print(sys.executable)"
   ]
  },
  {
   "cell_type": "code",
   "execution_count": 7,
   "metadata": {},
   "outputs": [
    {
     "ename": "ModuleNotFoundError",
     "evalue": "No module named 'binance'",
     "output_type": "error",
     "traceback": [
      "\u001b[1;31m---------------------------------------------------------------------------\u001b[0m",
      "\u001b[1;31mModuleNotFoundError\u001b[0m                       Traceback (most recent call last)",
      "Cell \u001b[1;32mIn[7], line 1\u001b[0m\n\u001b[1;32m----> 1\u001b[0m \u001b[38;5;28;01mfrom\u001b[39;00m \u001b[38;5;21;01mbinance\u001b[39;00m\u001b[38;5;21;01m.\u001b[39;00m\u001b[38;5;21;01mclient\u001b[39;00m \u001b[38;5;28;01mimport\u001b[39;00m Client  \u001b[38;5;66;03m# Correct import\u001b[39;00m\n\u001b[0;32m      2\u001b[0m \u001b[38;5;28;01mimport\u001b[39;00m \u001b[38;5;21;01mrequests\u001b[39;00m\n\u001b[0;32m      3\u001b[0m \u001b[38;5;28;01mimport\u001b[39;00m \u001b[38;5;21;01mpandas\u001b[39;00m \u001b[38;5;28;01mas\u001b[39;00m \u001b[38;5;21;01mpd\u001b[39;00m\n",
      "\u001b[1;31mModuleNotFoundError\u001b[0m: No module named 'binance'"
     ]
    }
   ],
   "source": [
    "from binance.client import Client  # Correct import\n",
    "import requests\n",
    "import pandas as pd\n",
    "import time\n",
    "from datetime import datetime, timedelta\n",
    "import pandas_ta as ta\n",
    "from sklearn.cluster import KMeans\n",
    "from sklearn.preprocessing import StandardScaler\n",
    "# ... any other libraries you'll use ..."
   ]
  },
  {
   "cell_type": "markdown",
   "metadata": {},
   "source": [
    "### Cell 2: Data Fetching Function throuh (get_kraken_ohlc)"
   ]
  },
  {
   "cell_type": "code",
   "execution_count": 5,
   "metadata": {},
   "outputs": [],
   "source": [
    "def get_binanceus_ohlc(symbol=\"BTCUSD\", interval=\"4h\", days=30):\n",
    "    \"\"\"\n",
    "    Fetches OHLC data from Binance.US public API.\n",
    "\n",
    "    :param symbol: Trading pair (e.g., \"BTCUSD\")\n",
    "    :param interval: Time interval (e.g., \"4h\", \"1d\", \"1w\")\n",
    "    :param days: Number of days of data to fetch\n",
    "    :return: Pandas DataFrame with OHLC data\n",
    "    \"\"\"\n",
    "    client = Client(api_key=None, api_secret=None)  # No keys needed for public API\n",
    "\n",
    "    # Calculate start time\n",
    "    start_str = (pd.Timestamp.now() - pd.Timedelta(days=days)).strftime('%Y-%m-%d')\n",
    "\n",
    "    # Fetch historical klines (candles)\n",
    "    klines = client.get_historical_klines(symbol, interval, start_str)\n",
    "\n",
    "    # Convert to DataFrame\n",
    "    df = pd.DataFrame(klines, columns=[\n",
    "        'open_time', 'open', 'high', 'low', 'close', 'volume',\n",
    "        'close_time', 'quote_asset_volume', 'number_of_trades',\n",
    "        'taker_buy_base_asset_volume', 'taker_buy_quote_asset_volume', 'ignore'\n",
    "    ])\n",
    "\n",
    "    # Select and rename columns\n",
    "    df = df[['open_time', 'open', 'high', 'low', 'close', 'volume']]\n",
    "    df = df.rename(columns={'open_time': 'time'})\n",
    "\n",
    "    # Convert to datetime and set index\n",
    "    df['time'] = pd.to_datetime(df['time'], unit='ms')\n",
    "    df = df.set_index('time')\n",
    "\n",
    "    # Convert to numeric types\n",
    "    for col in ['open', 'high', 'low', 'close', 'volume']:\n",
    "        df[col] = df[col].astype(float)\n",
    "\n",
    "    return df"
   ]
  },
  {
   "cell_type": "markdown",
   "metadata": {},
   "source": [
    "### Cell 3: Fetch Data (Run Only Once)\n"
   ]
  },
  {
   "cell_type": "code",
   "execution_count": null,
   "metadata": {},
   "outputs": [],
   "source": [
    "# Fetch data from Kraken and save to CSV.\n",
    "# Run this cell ONLY the first time, or when you need to refresh the data.\n",
    "btc_4h_data = get_kraken_ohlc(days=1825)\n",
    "btc_4h_data.to_csv(\"kraken_btc_4h_5years.csv\", index=False)\n",
    "print(btc_4h_data.head())"
   ]
  },
  {
   "cell_type": "code",
   "execution_count": 6,
   "metadata": {},
   "outputs": [
    {
     "ename": "NameError",
     "evalue": "name 'Client' is not defined",
     "output_type": "error",
     "traceback": [
      "\u001b[1;31m---------------------------------------------------------------------------\u001b[0m",
      "\u001b[1;31mNameError\u001b[0m                                 Traceback (most recent call last)",
      "Cell \u001b[1;32mIn[6], line 2\u001b[0m\n\u001b[0;32m      1\u001b[0m \u001b[38;5;66;03m# Test with 30 days of data\u001b[39;00m\n\u001b[1;32m----> 2\u001b[0m btc_4h_data_test \u001b[38;5;241m=\u001b[39m get_binanceus_ohlc(days\u001b[38;5;241m=\u001b[39m\u001b[38;5;241m30\u001b[39m)\n\u001b[0;32m      3\u001b[0m btc_4h_data_test\u001b[38;5;241m.\u001b[39mto_csv(\u001b[38;5;124m\"\u001b[39m\u001b[38;5;124mkraken_btc_4h_30days.csv\u001b[39m\u001b[38;5;124m\"\u001b[39m, index\u001b[38;5;241m=\u001b[39m\u001b[38;5;28;01mFalse\u001b[39;00m) \u001b[38;5;66;03m#Change file name\u001b[39;00m\n\u001b[0;32m      4\u001b[0m \u001b[38;5;28mprint\u001b[39m(btc_4h_data_test\u001b[38;5;241m.\u001b[39mhead())\n",
      "Cell \u001b[1;32mIn[5], line 10\u001b[0m, in \u001b[0;36mget_binanceus_ohlc\u001b[1;34m(symbol, interval, days)\u001b[0m\n\u001b[0;32m      1\u001b[0m \u001b[38;5;28;01mdef\u001b[39;00m \u001b[38;5;21mget_binanceus_ohlc\u001b[39m(symbol\u001b[38;5;241m=\u001b[39m\u001b[38;5;124m\"\u001b[39m\u001b[38;5;124mBTCUSD\u001b[39m\u001b[38;5;124m\"\u001b[39m, interval\u001b[38;5;241m=\u001b[39m\u001b[38;5;124m\"\u001b[39m\u001b[38;5;124m4h\u001b[39m\u001b[38;5;124m\"\u001b[39m, days\u001b[38;5;241m=\u001b[39m\u001b[38;5;241m30\u001b[39m):\n\u001b[0;32m      2\u001b[0m \u001b[38;5;250m    \u001b[39m\u001b[38;5;124;03m\"\"\"\u001b[39;00m\n\u001b[0;32m      3\u001b[0m \u001b[38;5;124;03m    Fetches OHLC data from Binance.US public API.\u001b[39;00m\n\u001b[0;32m      4\u001b[0m \n\u001b[1;32m   (...)\u001b[0m\n\u001b[0;32m      8\u001b[0m \u001b[38;5;124;03m    :return: Pandas DataFrame with OHLC data\u001b[39;00m\n\u001b[0;32m      9\u001b[0m \u001b[38;5;124;03m    \"\"\"\u001b[39;00m\n\u001b[1;32m---> 10\u001b[0m     client \u001b[38;5;241m=\u001b[39m Client(api_key\u001b[38;5;241m=\u001b[39m\u001b[38;5;28;01mNone\u001b[39;00m, api_secret\u001b[38;5;241m=\u001b[39m\u001b[38;5;28;01mNone\u001b[39;00m)  \u001b[38;5;66;03m# No keys needed for public API\u001b[39;00m\n\u001b[0;32m     12\u001b[0m     \u001b[38;5;66;03m# Calculate start time\u001b[39;00m\n\u001b[0;32m     13\u001b[0m     start_str \u001b[38;5;241m=\u001b[39m (pd\u001b[38;5;241m.\u001b[39mTimestamp\u001b[38;5;241m.\u001b[39mnow() \u001b[38;5;241m-\u001b[39m pd\u001b[38;5;241m.\u001b[39mTimedelta(days\u001b[38;5;241m=\u001b[39mdays))\u001b[38;5;241m.\u001b[39mstrftime(\u001b[38;5;124m'\u001b[39m\u001b[38;5;124m%\u001b[39m\u001b[38;5;124mY-\u001b[39m\u001b[38;5;124m%\u001b[39m\u001b[38;5;124mm-\u001b[39m\u001b[38;5;132;01m%d\u001b[39;00m\u001b[38;5;124m'\u001b[39m)\n",
      "\u001b[1;31mNameError\u001b[0m: name 'Client' is not defined"
     ]
    }
   ],
   "source": [
    "# Test with 30 days of data\n",
    "btc_4h_data_test = get_binanceus_ohlc(days=30)\n",
    "btc_4h_data_test.to_csv(\"kraken_btc_4h_30days.csv\", index=False) #Change file name\n",
    "print(btc_4h_data_test.head())"
   ]
  },
  {
   "cell_type": "markdown",
   "metadata": {},
   "source": [
    "### Cell 4: Load Data from CSV (Use for Subsequent Runs)"
   ]
  },
  {
   "cell_type": "code",
   "execution_count": null,
   "metadata": {},
   "outputs": [],
   "source": [
    "# Load data from the CSV file.\n",
    "# Run this cell instead of Cell 3 after the initial data fetch.\n",
    "btc_4h_data = pd.read_csv(\"kraken_btc_4h_5years.csv\", parse_dates=['time'], index_col='time')\n",
    "print(btc_4h_data.head())"
   ]
  },
  {
   "cell_type": "markdown",
   "metadata": {},
   "source": [
    "### Cell 5: Feature Engineering Function (add_indicators)"
   ]
  },
  {
   "cell_type": "code",
   "execution_count": null,
   "metadata": {},
   "outputs": [],
   "source": [
    "def add_indicators(df):\n",
    "    # ... (code from feature_engineering.py) ..."
   ]
  },
  {
   "cell_type": "markdown",
   "metadata": {},
   "source": [
    "### Cell 6: Apply Feature Engineering"
   ]
  },
  {
   "cell_type": "code",
   "execution_count": null,
   "metadata": {},
   "outputs": [],
   "source": [
    "btc_4h_data = add_indicators(btc_4h_data)\n",
    "print(btc_4h_data.head())  # Check the results"
   ]
  },
  {
   "cell_type": "markdown",
   "metadata": {},
   "source": [
    "### Cell 7: Clustering Model Function (clustering_model)"
   ]
  },
  {
   "cell_type": "code",
   "execution_count": null,
   "metadata": {},
   "outputs": [],
   "source": [
    "def clustering_model(df_cluster, n_clusters=3):\n",
    "    # ... (code from models.py) ..."
   ]
  },
  {
   "cell_type": "markdown",
   "metadata": {},
   "source": [
    "### Cell 8: Perform Clustering and Add to DataFrame"
   ]
  },
  {
   "cell_type": "code",
   "execution_count": null,
   "metadata": {},
   "outputs": [],
   "source": [
    "# Select the features you want to use for clustering\n",
    "cluster_features = ['RSI', 'MACD', 'volume']  # Example – adjust as needed\n",
    "df_cluster = btc_4h_data[cluster_features]\n",
    "\n",
    "clusters = clustering_model(df_cluster)  # Get cluster assignments\n",
    "btc_4h_data['Cluster'] = clusters  # Add cluster labels to your main DataFrame\n",
    "\n",
    "print(btc_4h_data.head())  # See the cluster assignments"
   ]
  }
 ],
 "metadata": {
  "kernelspec": {
   "display_name": "base",
   "language": "python",
   "name": "python3"
  },
  "language_info": {
   "codemirror_mode": {
    "name": "ipython",
    "version": 3
   },
   "file_extension": ".py",
   "mimetype": "text/x-python",
   "name": "python",
   "nbconvert_exporter": "python",
   "pygments_lexer": "ipython3",
   "version": "3.12.7"
  }
 },
 "nbformat": 4,
 "nbformat_minor": 2
}
