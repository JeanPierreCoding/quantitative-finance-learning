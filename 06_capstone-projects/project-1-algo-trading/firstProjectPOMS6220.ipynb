{
 "cells": [
  {
   "cell_type": "code",
   "execution_count": 13,
   "metadata": {},
   "outputs": [],
   "source": [
    "import requests\n",
    "import pandas as pd\n",
    "import time\n",
    "from datetime import datetime, timedelta\n",
    "import pandas_ta as ta\n",
    "from sklearn.cluster import KMeans\n",
    "from sklearn.preprocessing import StandardScaler\n",
    "# ... any other libraries you'll use ..."
   ]
  },
  {
   "cell_type": "markdown",
   "metadata": {},
   "source": [
    "### Cell 2: Data Fetching Function throuh (get_kraken_ohlc)"
   ]
  },
  {
   "cell_type": "code",
   "execution_count": 14,
   "metadata": {},
   "outputs": [],
   "source": [
    "def get_kraken_ohlc(pair=\"XXBTZUSD\", interval=240, days=1825):\n",
    "    \"\"\"\n",
    "    Fetch 4-hour OHLC data from Kraken's public API, handling variable columns.\n",
    "\n",
    "    :param pair: Trading pair (e.g., \"XXBTZUSD\" for BTC/USD)\n",
    "    :param interval: Time interval in minutes (240 = 4-hour)\n",
    "    :param days: Number of days of data to fetch\n",
    "    :return: Pandas DataFrame with OHLC data\n",
    "    \"\"\"\n",
    "    base_url = \"https://api.kraken.com/0/public/OHLC\"\n",
    "    end_time = int(datetime.now().timestamp())\n",
    "    start_time = end_time - (days * 24 * 60 * 60)\n",
    "\n",
    "    all_data = []\n",
    "\n",
    "    while start_time < end_time:\n",
    "        params = {\n",
    "            \"pair\": pair,\n",
    "            \"interval\": interval,\n",
    "            \"since\": start_time\n",
    "        }\n",
    "\n",
    "        response = requests.get(base_url, params=params)\n",
    "        data = response.json()\n",
    "\n",
    "        if \"error\" in data and data[\"error\"]:\n",
    "            print(f\"Error fetching data at start_time {start_time}:\", data[\"error\"])\n",
    "            break\n",
    "\n",
    "        candles = data[\"result\"][pair]\n",
    "\n",
    "        if not candles:\n",
    "            break\n",
    "\n",
    "        all_data.extend(candles)\n",
    "        start_time = int(candles[-1][0]) + 1\n",
    "\n",
    "        time.sleep(1)\n",
    "\n",
    "    # --- Flexible Column Handling ---\n",
    "    df = pd.DataFrame(all_data)  # Create DataFrame *without* specifying columns\n",
    "\n",
    "    # Rename columns based on their *position*, not assumed names\n",
    "    df = df.rename(\n",
    "        columns={\n",
    "            0: \"time\",\n",
    "            1: \"open\",\n",
    "            2: \"high\",\n",
    "            3: \"low\",\n",
    "            4: \"close\",\n",
    "            5: \"vwap\",  # Might not be present\n",
    "            6: \"volume\",  # Might be in position 5 if vwap is absent\n",
    "            7: \"count\",  # Might be in position 6 or absent\n",
    "        }\n",
    "    )\n",
    "\n",
    "    # Drop 'vwap' and 'count' if they exist\n",
    "    for col in [\"vwap\", \"count\"]:\n",
    "        if col in df.columns:\n",
    "            df = df.drop(columns=[col])\n",
    "\n",
    "    # Convert timestamp and ensure numeric types\n",
    "    df[\"time\"] = pd.to_datetime(df[\"time\"], unit=\"s\")\n",
    "    for col in [\"open\", \"high\", \"low\", \"close\", \"volume\"]:\n",
    "        if col in df.columns:  # Check if column exists before converting\n",
    "            df[col] = df[col].astype(float)\n",
    "\n",
    "    return df"
   ]
  },
  {
   "cell_type": "markdown",
   "metadata": {},
   "source": [
    "### Cell 3: Fetch Data (Run Only Once)\n"
   ]
  },
  {
   "cell_type": "code",
   "execution_count": null,
   "metadata": {},
   "outputs": [],
   "source": [
    "# Fetch data from Kraken and save to CSV.\n",
    "# Run this cell ONLY the first time, or when you need to refresh the data.\n",
    "btc_4h_data = get_kraken_ohlc(days=1825)\n",
    "btc_4h_data.to_csv(\"kraken_btc_4h_5years.csv\", index=False)\n",
    "print(btc_4h_data.head())"
   ]
  },
  {
   "cell_type": "markdown",
   "metadata": {},
   "source": [
    "### Cell 4: Load Data from CSV (Use for Subsequent Runs)"
   ]
  },
  {
   "cell_type": "code",
   "execution_count": null,
   "metadata": {},
   "outputs": [],
   "source": [
    "# Load data from the CSV file.\n",
    "# Run this cell instead of Cell 3 after the initial data fetch.\n",
    "btc_4h_data = pd.read_csv(\"kraken_btc_4h_5years.csv\", parse_dates=['time'], index_col='time')\n",
    "print(btc_4h_data.head())"
   ]
  },
  {
   "cell_type": "markdown",
   "metadata": {},
   "source": [
    "### Cell 5: Feature Engineering Function (add_indicators)"
   ]
  },
  {
   "cell_type": "code",
   "execution_count": null,
   "metadata": {},
   "outputs": [],
   "source": [
    "def add_indicators(df):\n",
    "    # ... (code from feature_engineering.py) ..."
   ]
  },
  {
   "cell_type": "markdown",
   "metadata": {},
   "source": [
    "### Cell 6: Apply Feature Engineering"
   ]
  },
  {
   "cell_type": "code",
   "execution_count": null,
   "metadata": {},
   "outputs": [],
   "source": [
    "btc_4h_data = add_indicators(btc_4h_data)\n",
    "print(btc_4h_data.head())  # Check the results"
   ]
  },
  {
   "cell_type": "markdown",
   "metadata": {},
   "source": [
    "### Cell 7: Clustering Model Function (clustering_model)"
   ]
  },
  {
   "cell_type": "code",
   "execution_count": null,
   "metadata": {},
   "outputs": [],
   "source": [
    "def clustering_model(df_cluster, n_clusters=3):\n",
    "    # ... (code from models.py) ..."
   ]
  },
  {
   "cell_type": "markdown",
   "metadata": {},
   "source": [
    "### Cell 8: Perform Clustering and Add to DataFrame"
   ]
  },
  {
   "cell_type": "code",
   "execution_count": null,
   "metadata": {},
   "outputs": [],
   "source": [
    "# Select the features you want to use for clustering\n",
    "cluster_features = ['RSI', 'MACD', 'volume']  # Example – adjust as needed\n",
    "df_cluster = btc_4h_data[cluster_features]\n",
    "\n",
    "clusters = clustering_model(df_cluster)  # Get cluster assignments\n",
    "btc_4h_data['Cluster'] = clusters  # Add cluster labels to your main DataFrame\n",
    "\n",
    "print(btc_4h_data.head())  # See the cluster assignments"
   ]
  }
 ],
 "metadata": {
  "kernelspec": {
   "display_name": "base",
   "language": "python",
   "name": "python3"
  },
  "language_info": {
   "codemirror_mode": {
    "name": "ipython",
    "version": 3
   },
   "file_extension": ".py",
   "mimetype": "text/x-python",
   "name": "python",
   "nbconvert_exporter": "python",
   "pygments_lexer": "ipython3",
   "version": "3.12.7"
  }
 },
 "nbformat": 4,
 "nbformat_minor": 2
}
